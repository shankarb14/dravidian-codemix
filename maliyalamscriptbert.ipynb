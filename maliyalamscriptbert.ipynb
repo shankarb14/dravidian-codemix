{
  "nbformat": 4,
  "nbformat_minor": 0,
  "metadata": {
    "colab": {
      "name": "maliyalamscriptbert.ipynb",
      "provenance": [],
      "toc_visible": true
    },
    "kernelspec": {
      "name": "python3",
      "display_name": "Python 3"
    }
  },
  "cells": [
    {
      "cell_type": "code",
      "metadata": {
        "colab": {
          "base_uri": "https://localhost:8080/"
        },
        "id": "_wIxipscleJ4",
        "outputId": "b530381c-c372-47f8-9b7f-990d09ce37f2"
      },
      "source": [
        "!pip install ktrain\n",
        "import numpy as np\n",
        "import pandas as pd\n",
        "import tensorflow as tf\n",
        "import ktrain\n",
        "from ktrain import text\n"
      ],
      "execution_count": null,
      "outputs": [
        {
          "output_type": "stream",
          "text": [
            "Requirement already satisfied: ktrain in /usr/local/lib/python3.6/dist-packages (0.25.3)\n",
            "Requirement already satisfied: packaging in /usr/local/lib/python3.6/dist-packages (from ktrain) (20.8)\n",
            "Requirement already satisfied: scikit-learn==0.23.2 in /usr/local/lib/python3.6/dist-packages (from ktrain) (0.23.2)\n",
            "Requirement already satisfied: fastprogress>=0.1.21 in /usr/local/lib/python3.6/dist-packages (from ktrain) (1.0.0)\n",
            "Requirement already satisfied: keras-bert>=0.86.0 in /usr/local/lib/python3.6/dist-packages (from ktrain) (0.86.0)\n",
            "Requirement already satisfied: langdetect in /usr/local/lib/python3.6/dist-packages (from ktrain) (1.0.8)\n",
            "Requirement already satisfied: syntok in /usr/local/lib/python3.6/dist-packages (from ktrain) (1.3.1)\n",
            "Requirement already satisfied: sentencepiece in /usr/local/lib/python3.6/dist-packages (from ktrain) (0.1.95)\n",
            "Requirement already satisfied: cchardet in /usr/local/lib/python3.6/dist-packages (from ktrain) (2.1.7)\n",
            "Requirement already satisfied: whoosh in /usr/local/lib/python3.6/dist-packages (from ktrain) (2.7.4)\n",
            "Requirement already satisfied: networkx>=2.3 in /usr/local/lib/python3.6/dist-packages (from ktrain) (2.5)\n",
            "Requirement already satisfied: transformers<4.0,>=3.1.0 in /usr/local/lib/python3.6/dist-packages (from ktrain) (3.5.1)\n",
            "Requirement already satisfied: seqeval==0.0.19 in /usr/local/lib/python3.6/dist-packages (from ktrain) (0.0.19)\n",
            "Requirement already satisfied: matplotlib>=3.0.0 in /usr/local/lib/python3.6/dist-packages (from ktrain) (3.2.2)\n",
            "Requirement already satisfied: jieba in /usr/local/lib/python3.6/dist-packages (from ktrain) (0.42.1)\n",
            "Requirement already satisfied: joblib in /usr/local/lib/python3.6/dist-packages (from ktrain) (1.0.0)\n",
            "Requirement already satisfied: pandas>=1.0.1 in /usr/local/lib/python3.6/dist-packages (from ktrain) (1.1.5)\n",
            "Requirement already satisfied: requests in /usr/local/lib/python3.6/dist-packages (from ktrain) (2.23.0)\n",
            "Requirement already satisfied: ipython in /usr/local/lib/python3.6/dist-packages (from ktrain) (5.5.0)\n",
            "Requirement already satisfied: pyparsing>=2.0.2 in /usr/local/lib/python3.6/dist-packages (from packaging->ktrain) (2.4.7)\n",
            "Requirement already satisfied: scipy>=0.19.1 in /usr/local/lib/python3.6/dist-packages (from scikit-learn==0.23.2->ktrain) (1.4.1)\n",
            "Requirement already satisfied: threadpoolctl>=2.0.0 in /usr/local/lib/python3.6/dist-packages (from scikit-learn==0.23.2->ktrain) (2.1.0)\n",
            "Requirement already satisfied: numpy>=1.13.3 in /usr/local/lib/python3.6/dist-packages (from scikit-learn==0.23.2->ktrain) (1.19.5)\n",
            "Requirement already satisfied: keras-transformer>=0.38.0 in /usr/local/lib/python3.6/dist-packages (from keras-bert>=0.86.0->ktrain) (0.38.0)\n",
            "Requirement already satisfied: Keras>=2.4.3 in /usr/local/lib/python3.6/dist-packages (from keras-bert>=0.86.0->ktrain) (2.4.3)\n",
            "Requirement already satisfied: six in /usr/local/lib/python3.6/dist-packages (from langdetect->ktrain) (1.15.0)\n",
            "Requirement already satisfied: regex in /usr/local/lib/python3.6/dist-packages (from syntok->ktrain) (2019.12.20)\n",
            "Requirement already satisfied: decorator>=4.3.0 in /usr/local/lib/python3.6/dist-packages (from networkx>=2.3->ktrain) (4.4.2)\n",
            "Requirement already satisfied: sacremoses in /usr/local/lib/python3.6/dist-packages (from transformers<4.0,>=3.1.0->ktrain) (0.0.43)\n",
            "Requirement already satisfied: tqdm>=4.27 in /usr/local/lib/python3.6/dist-packages (from transformers<4.0,>=3.1.0->ktrain) (4.41.1)\n",
            "Requirement already satisfied: protobuf in /usr/local/lib/python3.6/dist-packages (from transformers<4.0,>=3.1.0->ktrain) (3.12.4)\n",
            "Requirement already satisfied: dataclasses; python_version < \"3.7\" in /usr/local/lib/python3.6/dist-packages (from transformers<4.0,>=3.1.0->ktrain) (0.8)\n",
            "Requirement already satisfied: filelock in /usr/local/lib/python3.6/dist-packages (from transformers<4.0,>=3.1.0->ktrain) (3.0.12)\n",
            "Requirement already satisfied: tokenizers==0.9.3 in /usr/local/lib/python3.6/dist-packages (from transformers<4.0,>=3.1.0->ktrain) (0.9.3)\n",
            "Requirement already satisfied: cycler>=0.10 in /usr/local/lib/python3.6/dist-packages (from matplotlib>=3.0.0->ktrain) (0.10.0)\n",
            "Requirement already satisfied: kiwisolver>=1.0.1 in /usr/local/lib/python3.6/dist-packages (from matplotlib>=3.0.0->ktrain) (1.3.1)\n",
            "Requirement already satisfied: python-dateutil>=2.1 in /usr/local/lib/python3.6/dist-packages (from matplotlib>=3.0.0->ktrain) (2.8.1)\n",
            "Requirement already satisfied: pytz>=2017.2 in /usr/local/lib/python3.6/dist-packages (from pandas>=1.0.1->ktrain) (2018.9)\n",
            "Requirement already satisfied: certifi>=2017.4.17 in /usr/local/lib/python3.6/dist-packages (from requests->ktrain) (2020.12.5)\n",
            "Requirement already satisfied: chardet<4,>=3.0.2 in /usr/local/lib/python3.6/dist-packages (from requests->ktrain) (3.0.4)\n",
            "Requirement already satisfied: urllib3!=1.25.0,!=1.25.1,<1.26,>=1.21.1 in /usr/local/lib/python3.6/dist-packages (from requests->ktrain) (1.24.3)\n",
            "Requirement already satisfied: idna<3,>=2.5 in /usr/local/lib/python3.6/dist-packages (from requests->ktrain) (2.10)\n",
            "Requirement already satisfied: pexpect; sys_platform != \"win32\" in /usr/local/lib/python3.6/dist-packages (from ipython->ktrain) (4.8.0)\n",
            "Requirement already satisfied: traitlets>=4.2 in /usr/local/lib/python3.6/dist-packages (from ipython->ktrain) (4.3.3)\n",
            "Requirement already satisfied: pickleshare in /usr/local/lib/python3.6/dist-packages (from ipython->ktrain) (0.7.5)\n",
            "Requirement already satisfied: setuptools>=18.5 in /usr/local/lib/python3.6/dist-packages (from ipython->ktrain) (51.1.1)\n",
            "Requirement already satisfied: pygments in /usr/local/lib/python3.6/dist-packages (from ipython->ktrain) (2.6.1)\n",
            "Requirement already satisfied: prompt-toolkit<2.0.0,>=1.0.4 in /usr/local/lib/python3.6/dist-packages (from ipython->ktrain) (1.0.18)\n",
            "Requirement already satisfied: simplegeneric>0.8 in /usr/local/lib/python3.6/dist-packages (from ipython->ktrain) (0.8.1)\n",
            "Requirement already satisfied: keras-embed-sim>=0.8.0 in /usr/local/lib/python3.6/dist-packages (from keras-transformer>=0.38.0->keras-bert>=0.86.0->ktrain) (0.8.0)\n",
            "Requirement already satisfied: keras-multi-head>=0.27.0 in /usr/local/lib/python3.6/dist-packages (from keras-transformer>=0.38.0->keras-bert>=0.86.0->ktrain) (0.27.0)\n",
            "Requirement already satisfied: keras-pos-embd>=0.11.0 in /usr/local/lib/python3.6/dist-packages (from keras-transformer>=0.38.0->keras-bert>=0.86.0->ktrain) (0.11.0)\n",
            "Requirement already satisfied: keras-position-wise-feed-forward>=0.6.0 in /usr/local/lib/python3.6/dist-packages (from keras-transformer>=0.38.0->keras-bert>=0.86.0->ktrain) (0.6.0)\n",
            "Requirement already satisfied: keras-layer-normalization>=0.14.0 in /usr/local/lib/python3.6/dist-packages (from keras-transformer>=0.38.0->keras-bert>=0.86.0->ktrain) (0.14.0)\n",
            "Requirement already satisfied: pyyaml in /usr/local/lib/python3.6/dist-packages (from Keras>=2.4.3->keras-bert>=0.86.0->ktrain) (3.13)\n",
            "Requirement already satisfied: h5py in /usr/local/lib/python3.6/dist-packages (from Keras>=2.4.3->keras-bert>=0.86.0->ktrain) (2.10.0)\n",
            "Requirement already satisfied: click in /usr/local/lib/python3.6/dist-packages (from sacremoses->transformers<4.0,>=3.1.0->ktrain) (7.1.2)\n",
            "Requirement already satisfied: ptyprocess>=0.5 in /usr/local/lib/python3.6/dist-packages (from pexpect; sys_platform != \"win32\"->ipython->ktrain) (0.7.0)\n",
            "Requirement already satisfied: ipython-genutils in /usr/local/lib/python3.6/dist-packages (from traitlets>=4.2->ipython->ktrain) (0.2.0)\n",
            "Requirement already satisfied: wcwidth in /usr/local/lib/python3.6/dist-packages (from prompt-toolkit<2.0.0,>=1.0.4->ipython->ktrain) (0.2.5)\n",
            "Requirement already satisfied: keras-self-attention==0.46.0 in /usr/local/lib/python3.6/dist-packages (from keras-multi-head>=0.27.0->keras-transformer>=0.38.0->keras-bert>=0.86.0->ktrain) (0.46.0)\n"
          ],
          "name": "stdout"
        }
      ]
    },
    {
      "cell_type": "code",
      "metadata": {
        "id": "yEsKnIKymUsB"
      },
      "source": [
        "df = pd.read_csv('/content/ml-Hasoc-offensive-train.tsv',sep='\\t', header=0).fillna(' ') \n",
        "test =pd.read_csv('/content/ml_mixedscript_Hasoc-offensive-test_with_label.tsv',sep='\\t', header=0).fillna(' ')\n",
        "from  sklearn.model_selection import  train_test_split\n",
        "train_dt,test_dt,train_label,test_label = train_test_split(df, df['Labels'],  test_size=0.3,random_state=50)\n",
        "\n",
        "\n",
        "\n",
        "\n",
        "\n"
      ],
      "execution_count": null,
      "outputs": []
    },
    {
      "cell_type": "code",
      "metadata": {
        "colab": {
          "base_uri": "https://localhost:8080/"
        },
        "id": "ojr83YAfT4yd",
        "outputId": "1e8d5aff-abbf-4134-d307-48c76d19795b"
      },
      "source": [
        "print(test)"
      ],
      "execution_count": null,
      "outputs": [
        {
          "output_type": "stream",
          "text": [
            "         ID                                             Tweets         Labels\n",
            "0      ml_1  Theatoril climax maathram kaanichal mathiyallo...  Not_offensive\n",
            "1      ml_2  Shah Rukh Khan inte FAN cinema de cheriya samy...  Not_offensive\n",
            "2      ml_3  Heavy Stills onnum oru rekshem illa adipoli fd...  Not_offensive\n",
            "3      ml_4  Eee trailer njan ethra pravishyam nokiyann eni...  Not_offensive\n",
            "4      ml_5  Ikka ethu engane sathikunu enna oru mass I lov...  Not_offensive\n",
            "..      ...                                                ...            ...\n",
            "395  ml_396               മരണ മാസ് വെയ്റ്റിംഗ്  ഷൈൻ നിഗം ഇസ്തം  Not_offensive\n",
            "396  ml_397  Trailer kandappol oru kaaryam urappichu... Kaa...  Not_offensive\n",
            "397  ml_398  Ee Padam hitakkamo ennnariyilla   Pakshe ee On...  Not_offensive\n",
            "398  ml_399         Lalettan kidu maazz .... .... Super.......  Not_offensive\n",
            "399  ml_400  ഇജ്ജാതി bgm. Vere level. Pwlichuu. Thakarthy. ...  Not_offensive\n",
            "\n",
            "[400 rows x 3 columns]\n"
          ],
          "name": "stdout"
        }
      ]
    },
    {
      "cell_type": "code",
      "metadata": {
        "colab": {
          "base_uri": "https://localhost:8080/",
          "height": 134
        },
        "id": "U9xPaMC0n6X_",
        "outputId": "7c5283d8-60cd-4a60-ba1b-df6e4d93cfcf"
      },
      "source": [
        "(X_train,Y_train),(X_test, Y_test), preprocess = text.texts_from_df(train_df = train_dt, \n",
        "                  text_column = 'Tweets',\n",
        "                  label_columns = 'Labels',\n",
        "                  val_df = test_dt, maxlen = 400,\n",
        "                  preprocess_mode = 'bert' )\n"
      ],
      "execution_count": null,
      "outputs": [
        {
          "output_type": "stream",
          "text": [
            "preprocessing train...\n",
            "language: et\n"
          ],
          "name": "stdout"
        },
        {
          "output_type": "display_data",
          "data": {
            "text/html": [
              "done."
            ],
            "text/plain": [
              "<IPython.core.display.HTML object>"
            ]
          },
          "metadata": {
            "tags": []
          }
        },
        {
          "output_type": "stream",
          "text": [
            "Is Multi-Label? False\n",
            "preprocessing test...\n",
            "language: et\n"
          ],
          "name": "stdout"
        },
        {
          "output_type": "display_data",
          "data": {
            "text/html": [
              "done."
            ],
            "text/plain": [
              "<IPython.core.display.HTML object>"
            ]
          },
          "metadata": {
            "tags": []
          }
        }
      ]
    },
    {
      "cell_type": "code",
      "metadata": {
        "colab": {
          "base_uri": "https://localhost:8080/"
        },
        "id": "6y4aO7DCoPBg",
        "outputId": "bf65faff-09d9-4b4d-9b3f-82313cb4eb7a"
      },
      "source": [
        "model = text.text_classifier('bert',\n",
        "                             train_data = (X_train,Y_train),\n",
        "                             preproc=preprocess)\n"
      ],
      "execution_count": null,
      "outputs": [
        {
          "output_type": "stream",
          "text": [
            "Is Multi-Label? False\n",
            "maxlen is 400\n",
            "done.\n"
          ],
          "name": "stdout"
        }
      ]
    },
    {
      "cell_type": "code",
      "metadata": {
        "id": "tZzxPAjHoW20"
      },
      "source": [
        "learner  = ktrain.get_learner(model,\n",
        "                              train_data = (X_train,Y_train),\n",
        "                              val_data = (X_test,Y_test),\n",
        "                              batch_size = 6)\n"
      ],
      "execution_count": null,
      "outputs": []
    },
    {
      "cell_type": "code",
      "metadata": {
        "colab": {
          "base_uri": "https://localhost:8080/"
        },
        "id": "Ig4G89HLob6g",
        "outputId": "24c212eb-efe1-4b15-e4a2-e93cf93d9740"
      },
      "source": [
        "learner.fit_onecycle(2e-5, epochs=3)\n"
      ],
      "execution_count": null,
      "outputs": [
        {
          "output_type": "stream",
          "text": [
            "\n",
            "\n",
            "begin training using onecycle policy with max lr of 2e-05...\n",
            "Epoch 1/3\n",
            "374/374 [==============================] - 586s 2s/step - loss: 0.4831 - accuracy: 0.8094 - val_loss: 0.4199 - val_accuracy: 0.8448\n",
            "Epoch 2/3\n",
            "374/374 [==============================] - 560s 1s/step - loss: 0.3559 - accuracy: 0.8642 - val_loss: 0.3683 - val_accuracy: 0.8604\n",
            "Epoch 3/3\n",
            "374/374 [==============================] - 557s 1s/step - loss: 0.2015 - accuracy: 0.9278 - val_loss: 0.3143 - val_accuracy: 0.8948\n"
          ],
          "name": "stdout"
        },
        {
          "output_type": "execute_result",
          "data": {
            "text/plain": [
              "<tensorflow.python.keras.callbacks.History at 0x7f3739c6ec50>"
            ]
          },
          "metadata": {
            "tags": []
          },
          "execution_count": 7
        }
      ]
    },
    {
      "cell_type": "code",
      "metadata": {
        "id": "bWjuhkVMzL5q"
      },
      "source": [
        "predictor = ktrain.get_predictor(learner.model, preprocess)\n",
        "newtest = test['Tweets'].astype(str).tolist()\n",
        "\n"
      ],
      "execution_count": null,
      "outputs": []
    },
    {
      "cell_type": "code",
      "metadata": {
        "id": "_-pEBZGN0ALD"
      },
      "source": [
        "y_pred = predictor.predict(newtest)"
      ],
      "execution_count": null,
      "outputs": []
    },
    {
      "cell_type": "code",
      "metadata": {
        "colab": {
          "base_uri": "https://localhost:8080/"
        },
        "id": "SRrPHIJsttuS",
        "outputId": "bbe5aed9-44ee-49f8-cc03-efc610498a53"
      },
      "source": [
        "print(y_pred)"
      ],
      "execution_count": null,
      "outputs": [
        {
          "output_type": "stream",
          "text": [
            "['Not_offensive ', 'Not_offensive ', 'Not_offensive ', 'Not_offensive ', 'Not_offensive ', 'Not_offensive ', 'Not_offensive ', 'Not_offensive ', 'Not_offensive ', 'Offensive', 'Not_offensive ', 'Offensive', 'Not_offensive ', 'Offensive', 'Not_offensive ', 'Not_offensive ', 'Not_offensive ', 'Not_offensive ', 'Not_offensive ', 'Not_offensive ', 'Not_offensive ', 'Not_offensive ', 'Offensive', 'Not_offensive ', 'Not_offensive ', 'Not_offensive ', 'Offensive', 'Not_offensive ', 'Not_offensive ', 'Not_offensive ', 'Not_offensive ', 'Not_offensive ', 'Not_offensive ', 'Not_offensive ', 'Not_offensive ', 'Not_offensive ', 'Not_offensive ', 'Not_offensive ', 'Not_offensive ', 'Not_offensive ', 'Not_offensive ', 'Not_offensive ', 'Offensive', 'Not_offensive ', 'Not_offensive ', 'Not_offensive ', 'Not_offensive ', 'Not_offensive ', 'Not_offensive ', 'Not_offensive ', 'Offensive', 'Not_offensive ', 'Not_offensive ', 'Not_offensive ', 'Not_offensive ', 'Not_offensive ', 'Not_offensive ', 'Offensive', 'Not_offensive ', 'Offensive', 'Not_offensive ', 'Not_offensive ', 'Not_offensive ', 'Not_offensive ', 'Offensive', 'Not_offensive ', 'Not_offensive ', 'Not_offensive ', 'Offensive', 'Not_offensive ', 'Not_offensive ', 'Not_offensive ', 'Not_offensive ', 'Not_offensive ', 'Not_offensive ', 'Not_offensive ', 'Not_offensive ', 'Offensive', 'Not_offensive ', 'Not_offensive ', 'Not_offensive ', 'Not_offensive ', 'Offensive', 'Not_offensive ', 'Offensive', 'Offensive', 'Not_offensive ', 'Not_offensive ', 'Not_offensive ', 'Not_offensive ', 'Not_offensive ', 'Not_offensive ', 'Not_offensive ', 'Not_offensive ', 'Not_offensive ', 'Offensive', 'Not_offensive ', 'Not_offensive ', 'Offensive', 'Not_offensive ', 'Not_offensive ', 'Not_offensive ', 'Offensive', 'Not_offensive ', 'Not_offensive ', 'Not_offensive ', 'Not_offensive ', 'Not_offensive ', 'Not_offensive ', 'Offensive', 'Not_offensive ', 'Not_offensive ', 'Not_offensive ', 'Not_offensive ', 'Not_offensive ', 'Offensive', 'Not_offensive ', 'Not_offensive ', 'Not_offensive ', 'Not_offensive ', 'Not_offensive ', 'Not_offensive ', 'Not_offensive ', 'Not_offensive ', 'Not_offensive ', 'Not_offensive ', 'Not_offensive ', 'Not_offensive ', 'Not_offensive ', 'Not_offensive ', 'Not_offensive ', 'Not_offensive ', 'Not_offensive ', 'Not_offensive ', 'Not_offensive ', 'Not_offensive ', 'Not_offensive ', 'Not_offensive ', 'Not_offensive ', 'Not_offensive ', 'Not_offensive ', 'Not_offensive ', 'Not_offensive ', 'Not_offensive ', 'Not_offensive ', 'Not_offensive ', 'Not_offensive ', 'Not_offensive ', 'Not_offensive ', 'Offensive', 'Not_offensive ', 'Not_offensive ', 'Not_offensive ', 'Not_offensive ', 'Offensive', 'Not_offensive ', 'Not_offensive ', 'Not_offensive ', 'Not_offensive ', 'Not_offensive ', 'Offensive', 'Not_offensive ', 'Not_offensive ', 'Not_offensive ', 'Not_offensive ', 'Not_offensive ', 'Not_offensive ', 'Not_offensive ', 'Offensive', 'Not_offensive ', 'Not_offensive ', 'Not_offensive ', 'Not_offensive ', 'Not_offensive ', 'Offensive', 'Offensive', 'Not_offensive ', 'Not_offensive ', 'Not_offensive ', 'Not_offensive ', 'Not_offensive ', 'Offensive', 'Not_offensive ', 'Not_offensive ', 'Not_offensive ', 'Not_offensive ', 'Not_offensive ', 'Not_offensive ', 'Not_offensive ', 'Not_offensive ', 'Not_offensive ', 'Not_offensive ', 'Not_offensive ', 'Not_offensive ', 'Not_offensive ', 'Not_offensive ', 'Offensive', 'Not_offensive ', 'Not_offensive ', 'Not_offensive ', 'Not_offensive ', 'Not_offensive ', 'Not_offensive ', 'Not_offensive ', 'Not_offensive ', 'Not_offensive ', 'Not_offensive ', 'Not_offensive ', 'Offensive', 'Not_offensive ', 'Not_offensive ', 'Not_offensive ', 'Not_offensive ', 'Not_offensive ', 'Not_offensive ', 'Not_offensive ', 'Not_offensive ', 'Not_offensive ', 'Not_offensive ', 'Not_offensive ', 'Not_offensive ', 'Not_offensive ', 'Not_offensive ', 'Not_offensive ', 'Not_offensive ', 'Not_offensive ', 'Offensive', 'Not_offensive ', 'Not_offensive ', 'Not_offensive ', 'Not_offensive ', 'Not_offensive ', 'Offensive', 'Not_offensive ', 'Not_offensive ', 'Not_offensive ', 'Not_offensive ', 'Offensive', 'Offensive', 'Not_offensive ', 'Not_offensive ', 'Not_offensive ', 'Not_offensive ', 'Offensive', 'Not_offensive ', 'Not_offensive ', 'Not_offensive ', 'Not_offensive ', 'Not_offensive ', 'Not_offensive ', 'Not_offensive ', 'Not_offensive ', 'Not_offensive ', 'Not_offensive ', 'Not_offensive ', 'Not_offensive ', 'Not_offensive ', 'Not_offensive ', 'Not_offensive ', 'Not_offensive ', 'Not_offensive ', 'Not_offensive ', 'Not_offensive ', 'Offensive', 'Not_offensive ', 'Offensive', 'Not_offensive ', 'Not_offensive ', 'Not_offensive ', 'Not_offensive ', 'Not_offensive ', 'Not_offensive ', 'Not_offensive ', 'Not_offensive ', 'Not_offensive ', 'Not_offensive ', 'Not_offensive ', 'Not_offensive ', 'Not_offensive ', 'Not_offensive ', 'Not_offensive ', 'Not_offensive ', 'Not_offensive ', 'Not_offensive ', 'Not_offensive ', 'Not_offensive ', 'Not_offensive ', 'Not_offensive ', 'Not_offensive ', 'Not_offensive ', 'Not_offensive ', 'Not_offensive ', 'Not_offensive ', 'Not_offensive ', 'Not_offensive ', 'Not_offensive ', 'Not_offensive ', 'Not_offensive ', 'Not_offensive ', 'Not_offensive ', 'Not_offensive ', 'Not_offensive ', 'Offensive', 'Not_offensive ', 'Not_offensive ', 'Not_offensive ', 'Not_offensive ', 'Not_offensive ', 'Not_offensive ', 'Not_offensive ', 'Not_offensive ', 'Not_offensive ', 'Offensive', 'Not_offensive ', 'Not_offensive ', 'Not_offensive ', 'Not_offensive ', 'Offensive', 'Not_offensive ', 'Not_offensive ', 'Not_offensive ', 'Not_offensive ', 'Not_offensive ', 'Not_offensive ', 'Not_offensive ', 'Offensive', 'Not_offensive ', 'Not_offensive ', 'Not_offensive ', 'Not_offensive ', 'Not_offensive ', 'Offensive', 'Not_offensive ', 'Offensive', 'Not_offensive ', 'Not_offensive ', 'Not_offensive ', 'Not_offensive ', 'Not_offensive ', 'Not_offensive ', 'Not_offensive ', 'Not_offensive ', 'Not_offensive ', 'Not_offensive ', 'Not_offensive ', 'Not_offensive ', 'Not_offensive ', 'Not_offensive ', 'Not_offensive ', 'Not_offensive ', 'Not_offensive ', 'Not_offensive ', 'Not_offensive ', 'Not_offensive ', 'Not_offensive ', 'Not_offensive ', 'Not_offensive ', 'Not_offensive ', 'Not_offensive ', 'Offensive', 'Not_offensive ', 'Not_offensive ', 'Not_offensive ', 'Not_offensive ', 'Not_offensive ', 'Not_offensive ', 'Not_offensive ', 'Not_offensive ', 'Offensive', 'Offensive', 'Not_offensive ', 'Offensive', 'Not_offensive ', 'Not_offensive ', 'Not_offensive ', 'Not_offensive ', 'Not_offensive ', 'Not_offensive ', 'Not_offensive ', 'Offensive', 'Not_offensive ', 'Not_offensive ', 'Not_offensive ', 'Offensive', 'Not_offensive ', 'Not_offensive ', 'Not_offensive ', 'Not_offensive ', 'Not_offensive ', 'Offensive', 'Offensive', 'Not_offensive ', 'Not_offensive ', 'Not_offensive ', 'Not_offensive ', 'Not_offensive ', 'Not_offensive ', 'Not_offensive ', 'Not_offensive ', 'Not_offensive ']\n"
          ],
          "name": "stdout"
        }
      ]
    },
    {
      "cell_type": "code",
      "metadata": {
        "colab": {
          "base_uri": "https://localhost:8080/"
        },
        "id": "E43xe9FL0D3n",
        "outputId": "eba24736-fd7b-4c8b-8d4f-5a7d40b9d7cd"
      },
      "source": [
        "from sklearn.metrics import classification_report\n",
        "print(classification_report(y_pred,test['Labels']))"
      ],
      "execution_count": null,
      "outputs": [
        {
          "output_type": "stream",
          "text": [
            "                precision    recall  f1-score   support\n",
            "\n",
            " Not_offensive       0.00      0.00      0.00         0\n",
            "Not_offensive        0.00      0.00      0.00       350\n",
            "     Offensive       0.56      0.74      0.64        50\n",
            "\n",
            "      accuracy                           0.09       400\n",
            "     macro avg       0.19      0.25      0.21       400\n",
            "  weighted avg       0.07      0.09      0.08       400\n",
            "\n"
          ],
          "name": "stdout"
        },
        {
          "output_type": "stream",
          "text": [
            "/usr/local/lib/python3.6/dist-packages/sklearn/metrics/_classification.py:1221: UndefinedMetricWarning: Precision and F-score are ill-defined and being set to 0.0 in labels with no predicted samples. Use `zero_division` parameter to control this behavior.\n",
            "  _warn_prf(average, modifier, msg_start, len(result))\n",
            "/usr/local/lib/python3.6/dist-packages/sklearn/metrics/_classification.py:1221: UndefinedMetricWarning: Recall and F-score are ill-defined and being set to 0.0 in labels with no true samples. Use `zero_division` parameter to control this behavior.\n",
            "  _warn_prf(average, modifier, msg_start, len(result))\n"
          ],
          "name": "stderr"
        }
      ]
    },
    {
      "cell_type": "code",
      "metadata": {
        "id": "JFtjLokLjf24"
      },
      "source": [
        ""
      ],
      "execution_count": null,
      "outputs": []
    }
  ]
}